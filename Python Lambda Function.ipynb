{
 "cells": [
  {
   "cell_type": "markdown",
   "id": "b9449150",
   "metadata": {},
   "source": [
    "## Python Lambda Function"
   ]
  },
  {
   "cell_type": "markdown",
   "id": "9db834ae",
   "metadata": {},
   "source": [
    "### 1. Introduction\n",
    "\n",
    "A Python Lambda function is a function without a name and as such it is referred to as an anonymous function. Just as the 'def' key word is used for defining a normal function, the 'lambda' key word is used for defining a Lambda function. \n",
    "\n",
    "Lambda functions are restricted to a single expression and allows users to write functions in a quick way"
   ]
  },
  {
   "cell_type": "markdown",
   "id": "57256118",
   "metadata": {},
   "source": [
    "### 2. Lamda Function Syntax\n",
    "\n",
    "The synatx for a lambda function is:"
   ]
  },
  {
   "cell_type": "raw",
   "id": "e820e968",
   "metadata": {},
   "source": [
    "lambda argument(s): expression"
   ]
  },
  {
   "cell_type": "markdown",
   "id": "010cccec",
   "metadata": {},
   "source": [
    "The Lambda function is specified by a keyword 'lambda' after which the names of the arguments are specified followed by a colon and the expression that specifies what should be returned by the function. The Lambda function can take on any number of arguments but will only have one expression to be evaluated and returned."
   ]
  },
  {
   "cell_type": "markdown",
   "id": "3a609113",
   "metadata": {},
   "source": [
    "### 3. Lambda Functions Use\n",
    "\n",
    "Lambda functions are useful when one is writing simple logical operations that are easy to understand. In this case, they make the code more readable. When writing functions that will be used just once, lambda functions are a preferred way to do this.\n",
    "\n",
    "One should take into consideration that Lambda functions can only perform one expression and as such they should be restricted to simple expressions with only one line of code that will be used only once within the code. "
   ]
  },
  {
   "cell_type": "markdown",
   "id": "9df0552a",
   "metadata": {},
   "source": [
    "### 4. Lambda Function Example\n",
    "\n",
    "We take an example of a function that accepts a number and returns the square of that number. The following would be the function definition for a normal python function and for a lambda function. Note that for a normal python function the function name is 'square_num' whereas the lambda function as no function name."
   ]
  },
  {
   "cell_type": "raw",
   "id": "8d207b58",
   "metadata": {},
   "source": [
    "# Normal python function\n",
    "def square_num(x):\n",
    "    return x**2\n",
    "    \n",
    "#Lambda function\n",
    "lambda x: x**2"
   ]
  },
  {
   "cell_type": "markdown",
   "id": "edad0d1f",
   "metadata": {},
   "source": [
    "#### 4.1 Normal Python Function Implementation"
   ]
  },
  {
   "cell_type": "code",
   "execution_count": 32,
   "id": "d0ed1fb2",
   "metadata": {},
   "outputs": [
    {
     "data": {
      "text/plain": [
       "25"
      ]
     },
     "execution_count": 32,
     "metadata": {},
     "output_type": "execute_result"
    }
   ],
   "source": [
    "#define function\n",
    "def square_num(x):\n",
    "    return x**2\n",
    "\n",
    "#square the number\n",
    "squared_num = square_num(5)\n",
    "squared_num"
   ]
  },
  {
   "cell_type": "markdown",
   "id": "526112c6",
   "metadata": {},
   "source": [
    "#### 4.2 Lambda Function Implementation"
   ]
  },
  {
   "cell_type": "code",
   "execution_count": 30,
   "id": "04391951",
   "metadata": {},
   "outputs": [
    {
     "data": {
      "text/plain": [
       "25"
      ]
     },
     "execution_count": 30,
     "metadata": {},
     "output_type": "execute_result"
    }
   ],
   "source": [
    "squared_num = lambda x: x**2\n",
    "\n",
    "squared_num(5)"
   ]
  },
  {
   "cell_type": "markdown",
   "id": "e54d504a",
   "metadata": {},
   "source": [
    "### 5. Lambda Functions More Practical Examples\n",
    "\n",
    "The above example executes a simple operation of squaring a number using a lambda function. However, lambda functions can be used on a number operations which can be used for short operations and data manipulation in a number of ways. We will look at some of the other examples that we can apply the lambda function. This includes the use of lambda function with other functions."
   ]
  },
  {
   "cell_type": "markdown",
   "id": "930a3f85",
   "metadata": {},
   "source": [
    "#### 5.1 Lambda Function with if-else\n",
    "\n",
    "We can use a lambda function with an if-else statement. The function below accepts two numbers and returns the maximum between the two. "
   ]
  },
  {
   "cell_type": "code",
   "execution_count": 33,
   "id": "2a89a8ce",
   "metadata": {},
   "outputs": [
    {
     "name": "stdout",
     "output_type": "stream",
     "text": [
      "9\n"
     ]
    }
   ],
   "source": [
    "max_num = lambda a, b: a if(a>b) else b\n",
    "\n",
    "print(max_num(5,9))"
   ]
  },
  {
   "cell_type": "markdown",
   "id": "239b8010",
   "metadata": {},
   "source": [
    "#### 5.2 Lambda Function with Filter Function\n",
    "\n",
    "The filter() function takes in a function and a list. The list is filtered based on the function that is passed and returns all of the elements for which the function returns True. We can use the lambda function with the filter() function to filter out the elements for which the lambda function returns True. \n",
    "\n",
    "The example below is a the application of a filter function were we filter out even numbers from a given list. The lambda function checks for the condition for each of the elements whether its mod 2 is zero which means it is even."
   ]
  },
  {
   "cell_type": "code",
   "execution_count": 23,
   "id": "e43342af",
   "metadata": {},
   "outputs": [
    {
     "data": {
      "text/plain": [
       "[1, 2, 3, 4, 5, 6, 7, 8, 9, 10]"
      ]
     },
     "execution_count": 23,
     "metadata": {},
     "output_type": "execute_result"
    }
   ],
   "source": [
    "#create a list\n",
    "our_list = list(range(1,11))\n",
    "our_list"
   ]
  },
  {
   "cell_type": "code",
   "execution_count": 24,
   "id": "f5fe0e5b",
   "metadata": {},
   "outputs": [
    {
     "data": {
      "text/plain": [
       "[2, 4, 6, 8, 10]"
      ]
     },
     "execution_count": 24,
     "metadata": {},
     "output_type": "execute_result"
    }
   ],
   "source": [
    "#filter out even numbers\n",
    "even_list = list(filter(lambda x: x%2 == 0, our_list))\n",
    "even_list"
   ]
  },
  {
   "cell_type": "markdown",
   "id": "f76a79cf",
   "metadata": {},
   "source": [
    "#### 5.3 Lambda Function with Map Function\n",
    "\n",
    "The lambda function takes in a list and a function. The function operation is performed on all of the elements in the list. Let us say we want to square all of the elements in our list, we will then pass a function, a lambda function in this case, for squaring a number a list that we want to map that function on."
   ]
  },
  {
   "cell_type": "code",
   "execution_count": 28,
   "id": "2ab86638",
   "metadata": {},
   "outputs": [
    {
     "data": {
      "text/plain": [
       "[1, 4, 9, 16, 25, 36, 49, 64, 81, 100]"
      ]
     },
     "execution_count": 28,
     "metadata": {},
     "output_type": "execute_result"
    }
   ],
   "source": [
    "sq_list = list(map(lambda x: x**2, our_list))\n",
    "sq_list"
   ]
  },
  {
   "cell_type": "markdown",
   "id": "31609807",
   "metadata": {},
   "source": [
    "### 6. Conclusion\n",
    "\n",
    "Lambda Functions are useful you want to perform simple function operations within a single line of code. This functions will mostly not be used again in the code and as such making lambda functions a more appropriate option. One should be however, cautious when choosing to use lambda functions. Lambda functions should not be used for functions that require multiple lines of code and were comments might be needed to describe the function. "
   ]
  },
  {
   "cell_type": "code",
   "execution_count": null,
   "id": "7d32bee7",
   "metadata": {},
   "outputs": [],
   "source": []
  }
 ],
 "metadata": {
  "kernelspec": {
   "display_name": "Python 3 (ipykernel)",
   "language": "python",
   "name": "python3"
  },
  "language_info": {
   "codemirror_mode": {
    "name": "ipython",
    "version": 3
   },
   "file_extension": ".py",
   "mimetype": "text/x-python",
   "name": "python",
   "nbconvert_exporter": "python",
   "pygments_lexer": "ipython3",
   "version": "3.9.7"
  }
 },
 "nbformat": 4,
 "nbformat_minor": 5
}
