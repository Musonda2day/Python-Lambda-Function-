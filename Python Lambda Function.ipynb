{
 "cells": [
  {
   "cell_type": "markdown",
   "id": "fbf4a591",
   "metadata": {},
   "source": [
    "## Python Lambda Function"
   ]
  },
  {
   "cell_type": "markdown",
   "id": "83560db9",
   "metadata": {},
   "source": [
    "### Introduction\n",
    "\n",
    "A Python Lambda function is a function without a name and as such it is refered to as an anonymous function. Just as the 'def' key word is used for defining a normal function, the 'lambda' key word is used for defining a Lambda function. \n",
    "\n",
    "Lambda functions are restricted to a single expression and allows users to write functions in a quick way"
   ]
  },
  {
   "cell_type": "markdown",
   "id": "305af2cd",
   "metadata": {},
   "source": [
    "### Lamda Function Syntax\n",
    "\n",
    "The synatx for a lambda function is:"
   ]
  },
  {
   "cell_type": "raw",
   "id": "33991efd",
   "metadata": {},
   "source": [
    "lambda argument(s): expression"
   ]
  },
  {
   "cell_type": "markdown",
   "id": "4c1e6d55",
   "metadata": {},
   "source": [
    "The Lambda function is specified by a keyword 'lambda' after which the names of the arguments are specified followed by a colon and the expression that specifies what should be returned by the function. The Lambda function can take on any number of arguments but will only have one expression to be evaluated and returned."
   ]
  },
  {
   "cell_type": "markdown",
   "id": "530978e8",
   "metadata": {},
   "source": [
    "### Lambda Functions Use\n",
    "\n",
    "Lambda functions are usefull when one is writing simple logical operations that are easy to understand. In this case, they make the code more readable. When writing functions that will be used just once, lambda functions are a prefered way to do this.\n",
    "\n",
    "One should take into consideration that Lambda functions can only perform one expression and as such they should be restricted to simple expressions with only one line of code that will be used only once within the code. "
   ]
  },
  {
   "cell_type": "markdown",
   "id": "8eec05a7",
   "metadata": {},
   "source": [
    "### Lambda Function Example\n",
    "\n",
    "We take an example of a function that accepts a number and returns the square of that number. The following would be the function definition for a normal python function and for a lambda function. Note that for a normal python function the function name is 'square_num' whereas the lambda function as no function name."
   ]
  },
  {
   "cell_type": "raw",
   "id": "e886717a",
   "metadata": {},
   "source": [
    "# Normal python function\n",
    "def square_num(x):\n",
    "    return x**2\n",
    "    \n",
    "#Lambda function\n",
    "lambda x: x**2"
   ]
  },
  {
   "cell_type": "markdown",
   "id": "74350c99",
   "metadata": {},
   "source": [
    "#### Normal Python Function"
   ]
  },
  {
   "cell_type": "code",
   "execution_count": 2,
   "id": "cf520495",
   "metadata": {},
   "outputs": [],
   "source": [
    "# define variable\n",
    "num = 5"
   ]
  },
  {
   "cell_type": "code",
   "execution_count": 3,
   "id": "862c0731",
   "metadata": {},
   "outputs": [
    {
     "name": "stdout",
     "output_type": "stream",
     "text": [
      "25\n"
     ]
    }
   ],
   "source": [
    "#define function\n",
    "def square_num(x):\n",
    "    return x**2\n",
    "\n",
    "#square the number\n",
    "squared_num = square_num(num)\n",
    "print(squared_num)"
   ]
  },
  {
   "cell_type": "markdown",
   "id": "9f56c58f",
   "metadata": {},
   "source": [
    "#### Lambda Function Implementation"
   ]
  },
  {
   "cell_type": "code",
   "execution_count": 4,
   "id": "b1e01eeb",
   "metadata": {},
   "outputs": [
    {
     "data": {
      "text/plain": [
       "25"
      ]
     },
     "execution_count": 4,
     "metadata": {},
     "output_type": "execute_result"
    }
   ],
   "source": [
    "squared_num = lambda x: x**2\n",
    "\n",
    "squared_num(num)"
   ]
  },
  {
   "cell_type": "markdown",
   "id": "31af1cad",
   "metadata": {},
   "source": [
    "### Lambda Functions on Lists\n",
    "\n",
    "The above example executes the lambda function on a scaler value. However, lambda functions can be used on lists and it can also be used together with other functuions such as map() and filter()."
   ]
  },
  {
   "cell_type": "code",
   "execution_count": null,
   "id": "58c64e9c",
   "metadata": {},
   "outputs": [],
   "source": []
  },
  {
   "cell_type": "code",
   "execution_count": null,
   "id": "e0a277ab",
   "metadata": {},
   "outputs": [],
   "source": []
  },
  {
   "cell_type": "code",
   "execution_count": null,
   "id": "5efdb7c5",
   "metadata": {},
   "outputs": [],
   "source": []
  },
  {
   "cell_type": "code",
   "execution_count": null,
   "id": "ec7f00d2",
   "metadata": {},
   "outputs": [],
   "source": []
  },
  {
   "cell_type": "markdown",
   "id": "ab975034",
   "metadata": {},
   "source": [
    "https://www.geeksforgeeks.org/python-lambda-anonymous-functions-filter-map-reduce/\n",
    "\n",
    "https://towardsdatascience.com/lambda-functions-with-practical-examples-in-python-45934f3653a8"
   ]
  },
  {
   "cell_type": "code",
   "execution_count": null,
   "id": "50a8acf5",
   "metadata": {},
   "outputs": [],
   "source": []
  }
 ],
 "metadata": {
  "kernelspec": {
   "display_name": "Python 3 (ipykernel)",
   "language": "python",
   "name": "python3"
  },
  "language_info": {
   "codemirror_mode": {
    "name": "ipython",
    "version": 3
   },
   "file_extension": ".py",
   "mimetype": "text/x-python",
   "name": "python",
   "nbconvert_exporter": "python",
   "pygments_lexer": "ipython3",
   "version": "3.9.7"
  }
 },
 "nbformat": 4,
 "nbformat_minor": 5
}
